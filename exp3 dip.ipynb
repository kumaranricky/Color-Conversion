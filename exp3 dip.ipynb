{
 "cells": [
  {
   "cell_type": "code",
   "execution_count": null,
   "id": "e7692942",
   "metadata": {},
   "outputs": [],
   "source": [
    "import cv2\n",
    "img=cv2.imread(\"rrr.jpeg\")\n",
    "\n",
    "cv2.waitKey(0)\n",
    "img=cv2.resize(img,(500,400))\n",
    "cv2.imshow(\"trade\",img)\n",
    "cv2.waitKey(0)"
   ]
  },
  {
   "cell_type": "code",
   "execution_count": null,
   "id": "476423fa",
   "metadata": {},
   "outputs": [],
   "source": [
    "\n",
    "# bgr to hsv and gray\n",
    "bgr_hsv = cv2.cvtColor(img,cv2.COLOR_BGR2HSV)\n",
    "cv2.imshow('BGR2HSV',bgr_hsv)\n",
    "bgr_gray = cv2.cvtColor(img,cv2.COLOR_BGR2GRAY)\n",
    "cv2.imshow('BGR2GRAY',bgr_gray)\n",
    "#rgb to hsv and gray\n",
    "rgb_hsv = cv2.cvtColor(img,cv2.COLOR_RGB2HSV)\n",
    "cv2.imshow('RGB2HSV',rgb_hsv)\n",
    "rgb_gray = cv2.cvtColor(img,cv2.COLOR_RGB2GRAY)\n",
    "cv2.imshow('RGB2GRAY',rgb_gray)\n",
    "cv2.waitKey(0)\n"
   ]
  },
  {
   "cell_type": "code",
   "execution_count": null,
   "id": "833b36f6",
   "metadata": {},
   "outputs": [],
   "source": [
    "#hsv to rgb and bgr\n",
    "hsv_rgb = cv2.cvtColor(img,cv2.COLOR_HSV2RGB)\n",
    "cv2.imshow('HSV2RGB',hsv_rgb)\n",
    "hsv_bgr = cv2.cvtColor(img,cv2.COLOR_HSV2BGR)\n",
    "cv2.imshow('HSV2BGR',hsv_bgr)\n",
    "cv2.waitKey(0)\n"
   ]
  },
  {
   "cell_type": "code",
   "execution_count": null,
   "id": "41570504",
   "metadata": {},
   "outputs": [],
   "source": [
    "#rgb and bgr toycrcb\n",
    "rgb_ycrcb = cv2.cvtColor(img,cv2.COLOR_RGB2YCrCb)\n",
    "cv2.imshow('RGB2YCrCb',rgb_ycrcb)\n",
    "bgr_ycrcb = cv2.cvtColor(img,cv2.COLOR_BGR2YCrCb)\n",
    "cv2.imshow('BGR2YCrCb',bgr_ycrcb)\n",
    "cv2.waitKey(0)"
   ]
  },
  {
   "cell_type": "code",
   "execution_count": null,
   "id": "fd354289",
   "metadata": {},
   "outputs": [],
   "source": [
    "#split rgb\n",
    "blue=img[:,:,0]\n",
    "green=img[:,:,1]\n",
    "red=img[:,:,2]\n",
    "cv2.imshow(\"B\",blue)\n",
    "cv2.imshow(\"G\",green)\n",
    "cv2.imshow(\"R\",red)\n",
    "#merge rgb\n",
    "Merge_rgb=cv2.merge((blue,green,red))\n",
    "cv2.imshow(\"Merge_RGB\",Merge_rgb)\n",
    "cv2.waitKey(0)\n"
   ]
  },
  {
   "cell_type": "code",
   "execution_count": null,
   "id": "2d09c278",
   "metadata": {},
   "outputs": [],
   "source": [
    "#split hsv\n",
    "h,s,v=cv2.split(bgr_hsv)\n",
    "cv2.imshow(\"H\",h)\n",
    "cv2.imshow(\"S\",s)\n",
    "cv2.imshow(\"V\",v)\n",
    "#merge hsv\n",
    "Merge_hsv=cv2.merge((h,s,v))\n",
    "cv2.imshow(\"Merge_hsv\",Merge_hsv)\n",
    "cv2.waitKey(0)\n"
   ]
  },
  {
   "cell_type": "code",
   "execution_count": null,
   "id": "3bda70cc",
   "metadata": {},
   "outputs": [],
   "source": []
  },
  {
   "cell_type": "code",
   "execution_count": null,
   "id": "421b815d",
   "metadata": {},
   "outputs": [],
   "source": []
  },
  {
   "cell_type": "code",
   "execution_count": null,
   "id": "2b003a20",
   "metadata": {},
   "outputs": [],
   "source": []
  },
  {
   "cell_type": "code",
   "execution_count": null,
   "id": "6aa967fc",
   "metadata": {},
   "outputs": [],
   "source": []
  },
  {
   "cell_type": "code",
   "execution_count": null,
   "id": "4e0a9e37",
   "metadata": {},
   "outputs": [],
   "source": []
  },
  {
   "cell_type": "code",
   "execution_count": null,
   "id": "a6203819",
   "metadata": {},
   "outputs": [],
   "source": []
  },
  {
   "cell_type": "code",
   "execution_count": null,
   "id": "e0319679",
   "metadata": {},
   "outputs": [],
   "source": []
  }
 ],
 "metadata": {
  "kernelspec": {
   "display_name": "Python 3",
   "language": "python",
   "name": "python3"
  },
  "language_info": {
   "codemirror_mode": {
    "name": "ipython",
    "version": 3
   },
   "file_extension": ".py",
   "mimetype": "text/x-python",
   "name": "python",
   "nbconvert_exporter": "python",
   "pygments_lexer": "ipython3",
   "version": "3.8.8"
  }
 },
 "nbformat": 4,
 "nbformat_minor": 5
}
